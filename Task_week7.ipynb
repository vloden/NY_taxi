{
 "cells": [
  {
   "cell_type": "markdown",
   "metadata": {},
   "source": [
    "**Внимание!**\n",
    "\n",
    "- В задании были использованы предсказания за июнь 2016 года в качестве демонстрации, данные были выгружены из лучшего submission на kaggle, причём были использованы предсказания только на 1 час вперед (кроме 17-го часа последнего дня каждой зоны, там взяты предсказания на 6 часов вперед)\n",
    "- К сожадению, мне не удалось разобраться с тем, как обрабатывать событие щелчка по интеративной карте, поэтому выбор зоны осуществляется с помощью dropdownlist'а, хоть я и понимаю, что это жутко неудобно. Для удобства тестирования варианты расположены от наиболее \"интенсивной\" зоны до наименее \"интенсивной\".\n",
    "- Чтобы переключаться на карте между предсказанием и актуальными данными, нужно \"отщёлкнуть\" галочку в меню правого верхнего угла и щёлкнуть другую.\n",
    "\n",
    "Приятных тестов ;)"
   ]
  },
  {
   "cell_type": "code",
   "execution_count": 126,
   "metadata": {},
   "outputs": [],
   "source": [
    "import numpy as np\n",
    "import pandas as pd\n",
    "import matplotlib.pyplot as plt"
   ]
  },
  {
   "cell_type": "code",
   "execution_count": 241,
   "metadata": {},
   "outputs": [],
   "source": [
    "import folium\n",
    "import branca.colormap as cm"
   ]
  },
  {
   "cell_type": "code",
   "execution_count": 3,
   "metadata": {},
   "outputs": [],
   "source": [
    "from IPython.html import widgets\n",
    "from IPython.display import display"
   ]
  },
  {
   "cell_type": "markdown",
   "metadata": {},
   "source": [
    "## Выгрузим данные"
   ]
  },
  {
   "cell_type": "code",
   "execution_count": 80,
   "metadata": {},
   "outputs": [],
   "source": [
    "valid_indexes = np.load('valid_indexes.npy')"
   ]
  },
  {
   "cell_type": "code",
   "execution_count": 249,
   "metadata": {},
   "outputs": [],
   "source": [
    "pred_data = pd.read_csv('kaggle_week6.csv')\n",
    "true_data = pd.read_pickle('true_table.pkl')"
   ]
  },
  {
   "cell_type": "code",
   "execution_count": 250,
   "metadata": {},
   "outputs": [],
   "source": [
    "pred_data = pred_data[(pred_data['id'].apply(lambda s: s[-1]) == '1')\n",
    "                      | (pred_data['id'].apply(lambda s: s.split('_')[1:3] == ['2016-06-30', '17']))]\n",
    "pred_data['zone'] = pred_data['id'].apply(lambda s: s.split('_')[0]).astype(np.int)\n",
    "pred_data['time'] = pd.to_datetime(pred_data['id'].apply(lambda s: s.split('_')[1]))\\\n",
    "+ pd.to_timedelta(pred_data['id'].apply(lambda s: s.split('_')[2]).astype(np.int), unit='h')\\\n",
    "+ pd.to_timedelta(pred_data['id'].apply(lambda s: s.split('_')[-1]).astype(np.int), unit='h')\n",
    "pred_data['day'] = pred_data['time'].dt.day\n",
    "pred_data['hour'] = pred_data['time'].dt.hour\n",
    "pred_data.drop(columns=['id'], inplace=True)"
   ]
  },
  {
   "cell_type": "code",
   "execution_count": 123,
   "metadata": {},
   "outputs": [],
   "source": [
    "sorted_indexes = true_data[['zone', 'y']].groupby('zone').mean().sort_values('y', ascending=False).index"
   ]
  },
  {
   "cell_type": "markdown",
   "metadata": {},
   "source": [
    "## 1. Визуализация карт для определенного момента времени"
   ]
  },
  {
   "cell_type": "code",
   "execution_count": 181,
   "metadata": {},
   "outputs": [],
   "source": [
    "NY_longmin = -74.25559\n",
    "NY_longmax = -73.70001\n",
    "NY_latmin = 40.49612\n",
    "NY_latmax = 40.91553"
   ]
  },
  {
   "cell_type": "code",
   "execution_count": 239,
   "metadata": {},
   "outputs": [],
   "source": [
    "def visualize_map(day, hour):\n",
    "    \n",
    "    # filering\n",
    "    true_data_dm = true_data[(true_data['day'] == day)\\\n",
    "                             & (true_data['hour'] == hour)].drop(columns=['time', 'day',\n",
    "                                                                          'hour']).set_index('zone').squeeze()\n",
    "    pred_data_dm = pred_data[(pred_data['day'] == day)\\\n",
    "                             & (pred_data['hour'] == hour)].drop(columns=['time', 'day',\n",
    "                                                                          'hour']).set_index('zone').squeeze()\n",
    "    \n",
    "    \n",
    "    # making GeoJsonTooltip dict\n",
    "    areas_dict = \\\n",
    "    {\n",
    "        \"type\" : \"FeatureCollection\",\n",
    "        \"features\" : []\n",
    "    }\n",
    "\n",
    "    lat_steps = np.linspace(NY_latmin, NY_latmax, 51)\n",
    "    lon_steps = np.linspace(NY_longmin, NY_longmax, 51)\n",
    "\n",
    "    lat_stride = lat_steps[1] - lat_steps[0]\n",
    "    lon_stride = lon_steps[1] - lon_steps[0]\n",
    "\n",
    "    for lat_ind, lat in enumerate(lat_steps[:-1]):\n",
    "        for lon_ind, lon in enumerate(lon_steps[:-1]):\n",
    "            reg_id = lon_ind*50 + lat_ind + 1\n",
    "            if reg_id in valid_indexes:\n",
    "\n",
    "                # Определяем координаты углов для каждого квадрата\n",
    "                upper_left = [lon, lat + lat_stride]\n",
    "                upper_right = [lon + lon_stride, lat + lat_stride]\n",
    "                lower_right = [lon + lon_stride, lat]\n",
    "                lower_left = [lon, lat]\n",
    "\n",
    "                # Определяем в dict\n",
    "                coordinates = \\\n",
    "                [\n",
    "                    upper_left,\n",
    "                    upper_right,\n",
    "                    lower_right,\n",
    "                    lower_left,\n",
    "                    upper_left\n",
    "                ]\n",
    "\n",
    "                area_dict = \\\n",
    "                {\n",
    "                    \"type\" : \"Feature\",\n",
    "                    \"properties\":\n",
    "                    {\n",
    "                        \"id\" : reg_id,\n",
    "                        \"true_value\" : float(true_data_dm[reg_id]),\n",
    "                        \"pred_value\" : float(pred_data_dm[reg_id])\n",
    "                    },\n",
    "                    \"geometry\" : \n",
    "                    {\n",
    "                        \"type\": \"Polygon\",\n",
    "                        \"coordinates\": [coordinates]\n",
    "                    }\n",
    "                }\n",
    "\n",
    "                areas_dict[\"features\"].append(area_dict)\n",
    "                    \n",
    "    \n",
    "    # making map\n",
    "    \n",
    "    m = folium.Map(location=((NY_latmin + NY_latmax)/2, (NY_longmin + NY_longmax)/2), zoom_start=11)\n",
    "    \n",
    "    cmap = cm.linear.Reds_05.scale(0, max(true_data['y']))\n",
    "    cmap.caption = \"NY yellow taxi intensivity\"\n",
    "    \n",
    "    true_feature_group = folium.FeatureGroup(name='Actual data')\n",
    "    pred_feature_group = folium.FeatureGroup(name='Prediction', show=False)\n",
    "    \n",
    "    \n",
    "    folium.GeoJson(\n",
    "        areas_dict,\n",
    "        style_function=lambda feature: \n",
    "        {\n",
    "            'fillColor': cmap(feature[\"properties\"][\"true_value\"]),\n",
    "            'color': 'black',\n",
    "            'weight': 0.35,\n",
    "            'dashArray': '5, 5',\n",
    "            'fillOpacity': 0.6\n",
    "        },\n",
    "        highlight_function=lambda feature: \n",
    "        {\n",
    "            'weight': 2,\n",
    "            'color':'blue'\n",
    "        },\n",
    "        tooltip=folium.features.GeoJsonTooltip(\n",
    "            fields=['id', 'true_value'],\n",
    "            aliases=[\"region id\", \"intensivity\"]\n",
    "        )\n",
    "    ).add_to(true_feature_group)\n",
    "    \n",
    "    folium.GeoJson(\n",
    "        areas_dict,\n",
    "        style_function=lambda feature: \n",
    "        {\n",
    "            'fillColor': cmap(feature[\"properties\"][\"pred_value\"]),\n",
    "            'color': 'black',\n",
    "            'weight': 0.35,\n",
    "            'dashArray': '5, 5',\n",
    "            'fillOpacity': 0.5\n",
    "        },\n",
    "        highlight_function=lambda feature: \n",
    "        {\n",
    "            'weight': 3,\n",
    "            'color':'blue'\n",
    "        },\n",
    "        tooltip=folium.features.GeoJsonTooltip(\n",
    "            fields=['id', 'pred_value'],\n",
    "            aliases=[\"region id\", \"intensivity\"]\n",
    "        )\n",
    "    ).add_to(pred_feature_group)\n",
    "\n",
    "    true_feature_group.add_to(m)\n",
    "    pred_feature_group.add_to(m)\n",
    "    folium.LayerControl().add_to(m)\n",
    "    cmap.add_to(m)\n",
    "    \n",
    "    display(m)"
   ]
  },
  {
   "cell_type": "code",
   "execution_count": 240,
   "metadata": {},
   "outputs": [
    {
     "data": {
      "application/vnd.jupyter.widget-view+json": {
       "model_id": "ed29a1fee1b64168997a15dcc8d0856c",
       "version_major": 2,
       "version_minor": 0
      },
      "text/plain": [
       "interactive(children=(IntSlider(value=1, description='Day: ', max=30, min=1), IntSlider(value=0, description='…"
      ]
     },
     "metadata": {},
     "output_type": "display_data"
    }
   ],
   "source": [
    "widday = widgets.IntSlider(min=1, max=30, description='Day: ')\n",
    "widhour = widgets.IntSlider(max=23, description='Hour: ')\n",
    "wint = widgets.interact(visualize_map, day=widday, hour=widhour)"
   ]
  },
  {
   "cell_type": "markdown",
   "metadata": {},
   "source": [
    "## 2. Визуализация временных рядов для определенной зоны"
   ]
  },
  {
   "cell_type": "code",
   "execution_count": 133,
   "metadata": {},
   "outputs": [],
   "source": [
    "def visualize_ts(zone):\n",
    "    \n",
    "    # filering\n",
    "    true_data_zone = true_data[true_data['zone'] == zone]\n",
    "    pred_data_zone = pred_data[pred_data['zone'] == zone]\n",
    "    \n",
    "    # visualizing\n",
    "    plt.figure(figsize=(15, 10))\n",
    "    plt.title('NY taxi orders intensivity in June 2016 (zone %s)'%zone, size=15)\n",
    "    plt.plot(true_data_zone['time'], true_data_zone['y'], label='actual data')\n",
    "    plt.plot(pred_data_zone['time'], pred_data_zone['y'], label='predicted data')\n",
    "    plt.grid()\n",
    "    plt.legend(prop={'size': 15})\n",
    "    plt.show()"
   ]
  },
  {
   "cell_type": "code",
   "execution_count": 134,
   "metadata": {},
   "outputs": [
    {
     "data": {
      "application/vnd.jupyter.widget-view+json": {
       "model_id": "b587d24835c34ecb81175f01134193fd",
       "version_major": 2,
       "version_minor": 0
      },
      "text/plain": [
       "interactive(children=(Dropdown(description='Zone: ', options=(1282, 1232, 1181, 1231, 1281, 1230, 1180, 1233, …"
      ]
     },
     "metadata": {},
     "output_type": "display_data"
    }
   ],
   "source": [
    "widzone = widgets.Dropdown(options=sorted_indexes, description='Zone: ')\n",
    "wint = widgets.interact(visualize_ts, zone=widzone)"
   ]
  }
 ],
 "metadata": {
  "kernelspec": {
   "display_name": "Python 3",
   "language": "python",
   "name": "python3"
  },
  "language_info": {
   "codemirror_mode": {
    "name": "ipython",
    "version": 3
   },
   "file_extension": ".py",
   "mimetype": "text/x-python",
   "name": "python",
   "nbconvert_exporter": "python",
   "pygments_lexer": "ipython3",
   "version": "3.7.3"
  }
 },
 "nbformat": 4,
 "nbformat_minor": 2
}
